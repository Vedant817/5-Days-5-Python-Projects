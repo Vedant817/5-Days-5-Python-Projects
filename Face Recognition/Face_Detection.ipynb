{
 "cells": [
  {
   "cell_type": "code",
   "execution_count": null,
   "metadata": {},
   "outputs": [],
   "source": [
    "pip install dlib  # Helps in identifying the faces from the frame."
   ]
  },
  {
   "cell_type": "code",
   "execution_count": null,
   "metadata": {},
   "outputs": [],
   "source": [
    "pip install opencv-python"
   ]
  },
  {
   "cell_type": "code",
   "execution_count": null,
   "metadata": {},
   "outputs": [],
   "source": [
    "import cv2\n",
    "import dlib\n",
    "import numpy as np"
   ]
  },
  {
   "cell_type": "code",
   "execution_count": null,
   "metadata": {},
   "outputs": [],
   "source": [
    "# Capturing the Frames form the Camera\n",
    "cap = cv2.VideoCapture(0) #? 0 Indicates the primary Camera.\n",
    "\n",
    "# Face Detector Model\n",
    "face_detector = dlib.get_frontal_face_detector()\n",
    "\n",
    "# Capturing frames Continuously\n",
    "while True:\n",
    "    ret, frame =cap.read() # ret is a boolean value if it is True it means it is able to capture the frames.\n",
    "    frame = cv2.flip(frame, 1) # Vertically flipping the image\n",
    "\n",
    "    # RGB to Grayscale\n",
    "    gray = cv2.cvtColor(frame, cv2.COLOR_BGR2GRAY)\n",
    "    faces = face_detector(gray)\n",
    "\n",
    "    print(len(faces))\n",
    "\n",
    "    # Iterating through all the faces, counting them and placing Box around the face.\n",
    "    i=0\n",
    "    for face in faces:\n",
    "        x,y = face.left(), face.top()\n",
    "        x1, y1 = face.right(), face.bottom()\n",
    "\n",
    "        cv2.rectangle(frame, (x,y), (x1,y1), (0,255,0), 2)\n",
    "        i=i+1\n",
    "\n",
    "        cv2.putText(frame, \"Face No. \"+ str(i), (x-10, y-10), cv2.FONT_HERSHEY_SIMPLEX , 0.7, (0,0,2550,2))\n",
    "    cv2.imshow('frame', frame)\n",
    "\n",
    "    #? Interrupting the Loop execution\n",
    "    if(cv2.waitKey(1) & 0xFF == ord('q')):\n",
    "        break\n",
    "\n",
    "cap.release()\n",
    "cv2.destroyAllWindows()"
   ]
  }
 ],
 "metadata": {
  "kernelspec": {
   "display_name": "base",
   "language": "python",
   "name": "python3"
  },
  "language_info": {
   "codemirror_mode": {
    "name": "ipython",
    "version": 3
   },
   "file_extension": ".py",
   "mimetype": "text/x-python",
   "name": "python",
   "nbconvert_exporter": "python",
   "pygments_lexer": "ipython3",
   "version": "3.11.5"
  }
 },
 "nbformat": 4,
 "nbformat_minor": 2
}
