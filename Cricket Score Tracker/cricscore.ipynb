{
 "cells": [
  {
   "cell_type": "code",
   "execution_count": 12,
   "metadata": {},
   "outputs": [],
   "source": [
    "from tkinter import *\n",
    "from tkinter.ttk import Combobox # Helps in making the dropdown menu\n",
    "from PIL import ImageTk # Helps in setting up the background\n",
    "import requests\n",
    "from bs4 import BeautifulSoup"
   ]
  },
  {
   "cell_type": "code",
   "execution_count": 13,
   "metadata": {},
   "outputs": [
    {
     "ename": "",
     "evalue": "",
     "output_type": "error",
     "traceback": [
      "\u001b[1;31mThe Kernel crashed while executing code in the the current cell or a previous cell. Please review the code in the cell(s) to identify a possible cause of the failure. Click <a href='https://aka.ms/vscodeJupyterKernelCrash'>here</a> for more info. View Jupyter <a href='command:jupyter.viewOutput'>log</a> for further details."
     ]
    }
   ],
   "source": [
    "class CricketScore:\n",
    "    def __init__(self, rootWindow):\n",
    "        self.rootWindow = rootWindow\n",
    "        self.rootWindow.title('Live Cricket Score')\n",
    "        self.rootWindow.geometry('800x500')\n",
    "        self.bg = ImageTk.PhotoImage(file='./cric.jpg')\n",
    "        bg = Label(self.rootWindow, image=self.bg).place(x=0, y=0)\n",
    "        self.label = Label(self.rootWindow, text='Live Matches', font=(\"times new roman\",60),compound='center').pack(padx=100, pady=50)\n",
    "\n",
    "        #? Fetching the Live Match Updates using the Web Scraping\n",
    "        self.var = StringVar()\n",
    "        self.matches = self.match_details()\n",
    "\n",
    "    def match_details(self):\n",
    "        details = self.scrap()\n",
    "\n",
    "\n",
    "    def scrap(self):\n",
    "        URL = 'https://www.cricbuzz.com/'\n",
    "        page = requests.get(URL)"
   ]
  },
  {
   "cell_type": "code",
   "execution_count": 10,
   "metadata": {},
   "outputs": [],
   "source": [
    "def main():\n",
    "    rootWindow = Tk()\n",
    "    obj = CricketScore(rootWindow)\n",
    "    rootWindow.mainloop() # This helps in keep on displaying the GUI Window."
   ]
  },
  {
   "cell_type": "code",
   "execution_count": 11,
   "metadata": {},
   "outputs": [
    {
     "ename": "KeyboardInterrupt",
     "evalue": "",
     "output_type": "error",
     "traceback": [
      "\u001b[1;31m---------------------------------------------------------------------------\u001b[0m",
      "\u001b[1;31mKeyboardInterrupt\u001b[0m                         Traceback (most recent call last)",
      "\u001b[1;32mc:\\Users\\vedan\\Documents\\Resources\\5 Days 5 Python Projects\\Cricket Score Tracker\\cricscore.ipynb Cell 4\u001b[0m line \u001b[0;36m2\n\u001b[0;32m      <a href='vscode-notebook-cell:/c%3A/Users/vedan/Documents/Resources/5%20Days%205%20Python%20Projects/Cricket%20Score%20Tracker/cricscore.ipynb#W3sZmlsZQ%3D%3D?line=0'>1</a>\u001b[0m \u001b[39mif\u001b[39;00m \u001b[39m__name__\u001b[39m \u001b[39m==\u001b[39m \u001b[39m'\u001b[39m\u001b[39m__main__\u001b[39m\u001b[39m'\u001b[39m:\n\u001b[1;32m----> <a href='vscode-notebook-cell:/c%3A/Users/vedan/Documents/Resources/5%20Days%205%20Python%20Projects/Cricket%20Score%20Tracker/cricscore.ipynb#W3sZmlsZQ%3D%3D?line=1'>2</a>\u001b[0m     main()\n",
      "\u001b[1;32mc:\\Users\\vedan\\Documents\\Resources\\5 Days 5 Python Projects\\Cricket Score Tracker\\cricscore.ipynb Cell 4\u001b[0m line \u001b[0;36m4\n\u001b[0;32m      <a href='vscode-notebook-cell:/c%3A/Users/vedan/Documents/Resources/5%20Days%205%20Python%20Projects/Cricket%20Score%20Tracker/cricscore.ipynb#W3sZmlsZQ%3D%3D?line=1'>2</a>\u001b[0m rootWindow \u001b[39m=\u001b[39m Tk()\n\u001b[0;32m      <a href='vscode-notebook-cell:/c%3A/Users/vedan/Documents/Resources/5%20Days%205%20Python%20Projects/Cricket%20Score%20Tracker/cricscore.ipynb#W3sZmlsZQ%3D%3D?line=2'>3</a>\u001b[0m obj \u001b[39m=\u001b[39m CricketScore(rootWindow)\n\u001b[1;32m----> <a href='vscode-notebook-cell:/c%3A/Users/vedan/Documents/Resources/5%20Days%205%20Python%20Projects/Cricket%20Score%20Tracker/cricscore.ipynb#W3sZmlsZQ%3D%3D?line=3'>4</a>\u001b[0m rootWindow\u001b[39m.\u001b[39;49mmainloop()\n",
      "File \u001b[1;32mc:\\Users\\vedan\\anaconda3\\Lib\\tkinter\\__init__.py:1485\u001b[0m, in \u001b[0;36mMisc.mainloop\u001b[1;34m(self, n)\u001b[0m\n\u001b[0;32m   1483\u001b[0m \u001b[39mdef\u001b[39;00m \u001b[39mmainloop\u001b[39m(\u001b[39mself\u001b[39m, n\u001b[39m=\u001b[39m\u001b[39m0\u001b[39m):\n\u001b[0;32m   1484\u001b[0m \u001b[39m    \u001b[39m\u001b[39m\"\"\"Call the mainloop of Tk.\"\"\"\u001b[39;00m\n\u001b[1;32m-> 1485\u001b[0m     \u001b[39mself\u001b[39;49m\u001b[39m.\u001b[39;49mtk\u001b[39m.\u001b[39;49mmainloop(n)\n",
      "\u001b[1;31mKeyboardInterrupt\u001b[0m: "
     ]
    }
   ],
   "source": [
    "if __name__ == '__main__':\n",
    "    main()"
   ]
  }
 ],
 "metadata": {
  "kernelspec": {
   "display_name": "base",
   "language": "python",
   "name": "python3"
  },
  "language_info": {
   "codemirror_mode": {
    "name": "ipython",
    "version": 3
   },
   "file_extension": ".py",
   "mimetype": "text/x-python",
   "name": "python",
   "nbconvert_exporter": "python",
   "pygments_lexer": "ipython3",
   "version": "3.11.5"
  }
 },
 "nbformat": 4,
 "nbformat_minor": 2
}
