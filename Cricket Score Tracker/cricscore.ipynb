{
 "cells": [
  {
   "cell_type": "code",
   "execution_count": null,
   "metadata": {},
   "outputs": [],
   "source": [
    "from tkinter import *\n",
    "from tkinter.ttk import Combobox # Helps in making the dropdown menu\n",
    "from PIL import ImageTk # Helps in setting up the background\n",
    "import requests\n",
    "from bs4 import BeautifulSoup\n",
    "import re"
   ]
  },
  {
   "cell_type": "code",
   "execution_count": null,
   "metadata": {},
   "outputs": [],
   "source": [
    "class CricketScore:\n",
    "    def __init__(self, rootWindow):\n",
    "        self.rootWindow = rootWindow\n",
    "        self.rootWindow.title('Live Cricket Score')\n",
    "        self.rootWindow.geometry('800x500')\n",
    "        self.bg = ImageTk.PhotoImage(file='./cric.jpg')\n",
    "        bg = Label(self.rootWindow, image=self.bg).place(x=0, y=0)\n",
    "        self.label = Label(self.rootWindow, text='Live Matches', font=(\"times new roman\",60),compound='center').pack(padx=100, pady=50)\n",
    "\n",
    "        #? Fetching the Live Match Updates using the Web Scraping\n",
    "        self.var = StringVar()\n",
    "        self.matches = self.match_details()\n",
    "\n",
    "    def match_details(self):\n",
    "        details = self.scrap() #? Having the detail of All the scorecards.\n",
    "\n",
    "        live_match={}\n",
    "        for detail in details:\n",
    "            live_team_details ={}\n",
    "            summary = self.match_summary(detail)\n",
    "            if summary not in None:\n",
    "                match_header = self.match_header(detail).text\n",
    "                teams = self.teams_name(detail)\n",
    "\n",
    "\n",
    "    def scrap(self):\n",
    "        URL = 'https://www.cricbuzz.com/'\n",
    "        page = requests.get(URL)\n",
    "        soup = BeautifulSoup(page.content, \"html.parser\")\n",
    "        results = soup.find(id= \"match_menu_container\")\n",
    "        scrap_result = results.find_all(\"li\", class_=\"cb-match-card\")\n",
    "        return scrap_result\n",
    "    \n",
    "\n",
    "    def match_summary(self, detail):\n",
    "        return detail.find(\"div\", class_= \"cb-mtch-crd-state\")\n",
    "    \n",
    "    def match_header(detail):\n",
    "        return detail.find(\"div\", class_=\"cb-mtch-crd-hdr\")\n",
    "    \n",
    "    def teams_name(detail):\n",
    "        t = []\n",
    "        team1_detail = detail.find(\"div\", class_=\"cb-hmcg-bat-txt\").text\n",
    "        team1_index = re.search(r\"\\d\", team1_detail).start() if re.search(r\"\\d\", team1_detail) else len(team1_detail)\n",
    "        team2_detail = detail.find(\"div\", class_=\"cb-hmcg-bwl-txt\").text\n",
    "        team2_index = re.search(r\"\\d\", team2_detail).start() if re.search(r\"\\d\", team2_detail) else len(team2_detail)\n",
    "        t.append(team1_detail[:team1_index])\n",
    "        t.append(team2_detail[:team2_index])\n",
    "        return t"
   ]
  },
  {
   "cell_type": "code",
   "execution_count": null,
   "metadata": {},
   "outputs": [],
   "source": [
    "def main():\n",
    "    rootWindow = Tk()\n",
    "    obj = CricketScore(rootWindow)\n",
    "    rootWindow.mainloop() # This helps in keep on displaying the GUI Window."
   ]
  },
  {
   "cell_type": "code",
   "execution_count": null,
   "metadata": {},
   "outputs": [],
   "source": [
    "if __name__ == '__main__':\n",
    "    main()"
   ]
  }
 ],
 "metadata": {
  "kernelspec": {
   "display_name": "base",
   "language": "python",
   "name": "python3"
  },
  "language_info": {
   "codemirror_mode": {
    "name": "ipython",
    "version": 3
   },
   "file_extension": ".py",
   "mimetype": "text/x-python",
   "name": "python",
   "nbconvert_exporter": "python",
   "pygments_lexer": "ipython3",
   "version": "3.11.5"
  }
 },
 "nbformat": 4,
 "nbformat_minor": 2
}
